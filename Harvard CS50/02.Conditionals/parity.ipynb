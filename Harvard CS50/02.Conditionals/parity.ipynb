{
 "cells": [
  {
   "cell_type": "code",
   "id": "initial_id",
   "metadata": {
    "collapsed": true,
    "ExecuteTime": {
     "end_time": "2025-10-24T07:18:02.295658Z",
     "start_time": "2025-10-24T07:17:56.344433Z"
    }
   },
   "source": [
    "# input is 3\n",
    "x=int(input(\"Enter a number: \"))\n",
    "if x % 2 == 0:\n",
    "    print(\"Even\")\n",
    "else:\n",
    "    print(\"Odd\")"
   ],
   "outputs": [
    {
     "name": "stdout",
     "output_type": "stream",
     "text": [
      "Odd\n"
     ]
    }
   ],
   "execution_count": 1
  },
  {
   "metadata": {},
   "cell_type": "markdown",
   "source": "# Bool using",
   "id": "ba1ee28372a4a123"
  },
  {
   "metadata": {
    "ExecuteTime": {
     "end_time": "2025-10-24T07:21:45.160399Z",
     "start_time": "2025-10-24T07:21:42.253803Z"
    }
   },
   "cell_type": "code",
   "source": [
    "def main():\n",
    "    x=int(input(\"Enter a number: \"))\n",
    "    if is_even(x):\n",
    "        print(\"Even\")\n",
    "    else:\n",
    "        print(\"Odd\")\n",
    "\n",
    "def is_even(n):\n",
    "    if n % 2 == 0:\n",
    "        return True\n",
    "    else:\n",
    "        return False\n",
    "\n",
    "main()"
   ],
   "id": "a4e2ef77e4be19c7",
   "outputs": [
    {
     "name": "stdout",
     "output_type": "stream",
     "text": [
      "Odd\n"
     ]
    }
   ],
   "execution_count": 3
  },
  {
   "metadata": {},
   "cell_type": "markdown",
   "source": [
    "## Ternary Operators\n",
    "\n",
    "#### Syntax - **value_if_true if condition else value_if_false**"
   ],
   "id": "8fde17f55e78c6ea"
  },
  {
   "metadata": {},
   "cell_type": "code",
   "outputs": [],
   "execution_count": null,
   "source": [
    "# input is 3\n",
    "\n",
    "def main():\n",
    "    x=int(input(\"Enter a number: \"))\n",
    "    if is_even(x):\n",
    "        print(\"Even\")\n",
    "    else:\n",
    "        print(\"Odd\")\n",
    "\n",
    "def is_even(n):\n",
    "    return True if n % 2 == 0 else False\n",
    "\n",
    "main()"
   ],
   "id": "5d53aab9bdc249a4"
  },
  {
   "metadata": {
    "ExecuteTime": {
     "end_time": "2025-10-24T07:28:11.147772Z",
     "start_time": "2025-10-24T07:28:08.370498Z"
    }
   },
   "cell_type": "code",
   "source": [
    "# input is 3\n",
    "\n",
    "def main():\n",
    "    x=int(input(\"Enter a number: \"))\n",
    "    if is_even(x):\n",
    "        print(\"Even\")\n",
    "    else:\n",
    "        print(\"Odd\")\n",
    "\n",
    "def is_even(n):\n",
    "    return  n % 2 == 0\n",
    "\n",
    "main()"
   ],
   "id": "e605020f3115c85e",
   "outputs": [
    {
     "name": "stdout",
     "output_type": "stream",
     "text": [
      "Odd\n"
     ]
    }
   ],
   "execution_count": 4
  },
  {
   "metadata": {},
   "cell_type": "markdown",
   "source": "",
   "id": "c098d4d8d8724bc4"
  },
  {
   "metadata": {},
   "cell_type": "markdown",
   "source": "",
   "id": "e89ce6385d6c445e"
  },
  {
   "metadata": {},
   "cell_type": "markdown",
   "source": "# Harry Potter House Selection Case",
   "id": "7d1812053323fbec"
  },
  {
   "metadata": {
    "ExecuteTime": {
     "end_time": "2025-10-24T07:39:46.007578Z",
     "start_time": "2025-10-24T07:39:39.120960Z"
    }
   },
   "cell_type": "code",
   "source": [
    "name = input(\"Enter Student name: \")\n",
    "\n",
    "if name == \"Harry\":\n",
    "    print(\"Gryffindor\")\n",
    "elif name == \"Ron\":\n",
    "    print(\"Gryffindor\")\n",
    "elif name == \"Dean\":\n",
    "    print(\"Gryffindor\")\n",
    "elif name == \"Draco\":\n",
    "    print(\"Slytherin\")\n",
    "else:\n",
    "    print(\"Who\")"
   ],
   "id": "bc4a9b0e6987252c",
   "outputs": [
    {
     "name": "stdout",
     "output_type": "stream",
     "text": [
      "Gryffindor\n"
     ]
    }
   ],
   "execution_count": 6
  },
  {
   "metadata": {
    "ExecuteTime": {
     "end_time": "2025-10-24T07:40:29.380093Z",
     "start_time": "2025-10-24T07:40:25.276409Z"
    }
   },
   "cell_type": "code",
   "source": [
    "name = input(\"Enter Student name: \")\n",
    "\n",
    "if name == \"Harry\" or name == \"Ron\" or name == \"Dean\" :\n",
    "    print(\"Gryffindor\")\n",
    "elif name == \"Draco\":\n",
    "    print(\"Slytherin\")\n",
    "else:\n",
    "    print(\"Who\")"
   ],
   "id": "65cecea25c39222b",
   "outputs": [
    {
     "name": "stdout",
     "output_type": "stream",
     "text": [
      "Gryffindor\n"
     ]
    }
   ],
   "execution_count": 7
  },
  {
   "metadata": {},
   "cell_type": "markdown",
   "source": [
    "## Match Condition\n",
    "#### similar to Switch in other programming languages"
   ],
   "id": "3b5dcbf2c1d99205"
  },
  {
   "metadata": {
    "ExecuteTime": {
     "end_time": "2025-10-24T07:42:20.697694Z",
     "start_time": "2025-10-24T07:42:14.591229Z"
    }
   },
   "cell_type": "code",
   "source": [
    "name = input(\"Enter Student name: \")\n",
    "\n",
    "match name:\n",
    "    case \"Harry\":\n",
    "        print(\"Gryffindor\")\n",
    "    case \"Ron\":\n",
    "        print(\"Gryffindor\")\n",
    "    case \"Dean\":\n",
    "        print(\"Gryffindor\")\n",
    "    case \"Draco\":\n",
    "        print(\"Slytherin\")"
   ],
   "id": "7fa10dc1fa13b931",
   "outputs": [
    {
     "name": "stdout",
     "output_type": "stream",
     "text": [
      "Gryffindor\n"
     ]
    }
   ],
   "execution_count": 8
  },
  {
   "metadata": {
    "ExecuteTime": {
     "end_time": "2025-10-24T07:43:26.118596Z",
     "start_time": "2025-10-24T07:43:19.877012Z"
    }
   },
   "cell_type": "code",
   "source": [
    "name = input(\"Enter Student name: \")\n",
    "# input is Choi\n",
    "match name:\n",
    "    case \"Harry\":\n",
    "        print(\"Gryffindor\")\n",
    "    case \"Ron\":\n",
    "        print(\"Gryffindor\")\n",
    "    case \"Dean\":\n",
    "        print(\"Gryffindor\")\n",
    "    case \"Draco\":\n",
    "        print(\"Slytherin\")\n",
    "    case _:\n",
    "        print(\"Revenclaw\")"
   ],
   "id": "28783a2e2cad4f88",
   "outputs": [
    {
     "name": "stdout",
     "output_type": "stream",
     "text": [
      "Revenclaw\n"
     ]
    }
   ],
   "execution_count": 9
  },
  {
   "metadata": {
    "ExecuteTime": {
     "end_time": "2025-10-24T07:44:37.876734Z",
     "start_time": "2025-10-24T07:44:31.768203Z"
    }
   },
   "cell_type": "code",
   "source": [
    "name = input(\"Enter Student name: \")\n",
    "# input is Dean\n",
    "match name:\n",
    "    case \"Harry\" | \"Ron\" | \"Dean\" :\n",
    "        print(\"Gryffindor\")\n",
    "    case \"Draco\":\n",
    "        print(\"Slytherin\")\n",
    "    case _:\n",
    "        print(\"Revenclaw\")"
   ],
   "id": "42f9d8e94f55d01f",
   "outputs": [
    {
     "name": "stdout",
     "output_type": "stream",
     "text": [
      "Gryffindor\n"
     ]
    }
   ],
   "execution_count": 10
  },
  {
   "metadata": {},
   "cell_type": "code",
   "outputs": [],
   "execution_count": null,
   "source": "",
   "id": "e11d47b65c39696b"
  }
 ],
 "metadata": {
  "kernelspec": {
   "display_name": "Python 3",
   "language": "python",
   "name": "python3"
  },
  "language_info": {
   "codemirror_mode": {
    "name": "ipython",
    "version": 2
   },
   "file_extension": ".py",
   "mimetype": "text/x-python",
   "name": "python",
   "nbconvert_exporter": "python",
   "pygments_lexer": "ipython2",
   "version": "2.7.6"
  }
 },
 "nbformat": 4,
 "nbformat_minor": 5
}
