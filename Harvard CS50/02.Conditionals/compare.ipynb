{
 "cells": [
  {
   "cell_type": "code",
   "id": "initial_id",
   "metadata": {
    "collapsed": true,
    "ExecuteTime": {
     "end_time": "2025-10-24T06:31:36.252394Z",
     "start_time": "2025-10-24T06:31:28.044344Z"
    }
   },
   "source": [
    "# INPUT X=2 Y=4\n",
    "x=int(input(\"What is X\"))\n",
    "y=int(input(\"What is Y\"))\n",
    "\n",
    "if x<y:\n",
    "    print(\"X is less than Y\")\n",
    "if x>y:\n",
    "    print(\"x Is greater than y\")\n",
    "if x==y:\n",
    "    print(\"x is equal to y\")"
   ],
   "outputs": [
    {
     "name": "stdout",
     "output_type": "stream",
     "text": [
      "X is less than Y\n"
     ]
    }
   ],
   "execution_count": 1
  },
  {
   "metadata": {},
   "cell_type": "markdown",
   "source": "#### ABOVE CODE IS REPETITIVE. Even after first one became true other execute as well.",
   "id": "d607e790765213a0"
  },
  {
   "metadata": {},
   "cell_type": "markdown",
   "source": "# Mutually exclusive use",
   "id": "f8d8dcfe59e05646"
  },
  {
   "metadata": {
    "ExecuteTime": {
     "end_time": "2025-10-24T06:35:39.615365Z",
     "start_time": "2025-10-24T06:35:33.196520Z"
    }
   },
   "cell_type": "code",
   "source": [
    "# INPUT X=2 Y=4\n",
    "x=int(input(\"What is X\"))\n",
    "y=int(input(\"What is Y\"))\n",
    "\n",
    "if x<y:\n",
    "    print(\"X is less than Y\")\n",
    "elif x>y:\n",
    "    print(\"x Is greater than y\")\n",
    "elif x==y:\n",
    "    print(\"x is equal to y\")"
   ],
   "id": "dc8b60f28500f803",
   "outputs": [
    {
     "name": "stdout",
     "output_type": "stream",
     "text": [
      "X is less than Y\n"
     ]
    }
   ],
   "execution_count": 2
  },
  {
   "metadata": {
    "ExecuteTime": {
     "end_time": "2025-10-24T06:38:16.314786Z",
     "start_time": "2025-10-24T06:38:10.609824Z"
    }
   },
   "cell_type": "code",
   "source": [
    "# INPUT X=2 Y=4\n",
    "x=int(input(\"What is X\"))\n",
    "y=int(input(\"What is Y\"))\n",
    "\n",
    "if x<y:\n",
    "    print(\"X is less than Y\")\n",
    "elif x>y:\n",
    "    print(\"x Is greater than y\")\n",
    "else :\n",
    "    print(\"x is equal to y\")"
   ],
   "id": "a02f3eba31d71f87",
   "outputs": [
    {
     "name": "stdout",
     "output_type": "stream",
     "text": [
      "X is less than Y\n"
     ]
    }
   ],
   "execution_count": 3
  },
  {
   "metadata": {
    "ExecuteTime": {
     "end_time": "2025-10-24T06:38:37.716416Z",
     "start_time": "2025-10-24T06:38:32.992078Z"
    }
   },
   "cell_type": "code",
   "source": [
    "# INPUT X=2 Y=2\n",
    "x=int(input(\"What is X\"))\n",
    "y=int(input(\"What is Y\"))\n",
    "\n",
    "if x<y:\n",
    "    print(\"X is less than Y\")\n",
    "elif x>y:\n",
    "    print(\"x Is greater than y\")\n",
    "else :\n",
    "    print(\"x is equal to y\")"
   ],
   "id": "d49bcb89da1f6d53",
   "outputs": [
    {
     "name": "stdout",
     "output_type": "stream",
     "text": [
      "x is equal to y\n"
     ]
    }
   ],
   "execution_count": 4
  },
  {
   "metadata": {},
   "cell_type": "markdown",
   "source": "# **OR**",
   "id": "a8de3684be8c5d05"
  },
  {
   "metadata": {
    "ExecuteTime": {
     "end_time": "2025-10-24T06:45:34.193037Z",
     "start_time": "2025-10-24T06:45:26.582692Z"
    }
   },
   "cell_type": "code",
   "source": [
    "# INPUT X=2 Y=4\n",
    "x=int(input(\"What is X\"))\n",
    "y=int(input(\"What is Y\"))\n",
    "\n",
    "if x<y or x>y:\n",
    "    print(\"X is not equal to Y\")\n",
    "else:\n",
    "    print(\"X is equal to Y\")\n"
   ],
   "id": "584685de7e33917a",
   "outputs": [
    {
     "name": "stdout",
     "output_type": "stream",
     "text": [
      "X is not equal to Y\n"
     ]
    }
   ],
   "execution_count": 5
  },
  {
   "metadata": {},
   "cell_type": "markdown",
   "source": "#  **!=**",
   "id": "7fe027ca0997088f"
  },
  {
   "metadata": {
    "ExecuteTime": {
     "end_time": "2025-10-24T06:49:57.205203Z",
     "start_time": "2025-10-24T06:49:50.524966Z"
    }
   },
   "cell_type": "code",
   "source": [
    "# INPUT X=2 Y=4\n",
    "x=int(input(\"What is X\"))\n",
    "y=int(input(\"What is Y\"))\n",
    "\n",
    "if x!=y:\n",
    "    print(\"X is not equal to Y\")\n",
    "else:\n",
    "    print(\"X is equal to Y\")\n"
   ],
   "id": "bab83c72a5e0f1cd",
   "outputs": [
    {
     "name": "stdout",
     "output_type": "stream",
     "text": [
      "X is not equal to Y\n"
     ]
    }
   ],
   "execution_count": 6
  },
  {
   "metadata": {},
   "cell_type": "markdown",
   "source": "# **==**",
   "id": "7b46ac0b6afb4997"
  },
  {
   "metadata": {
    "ExecuteTime": {
     "end_time": "2025-10-24T06:51:41.378763Z",
     "start_time": "2025-10-24T06:51:35.827375Z"
    }
   },
   "cell_type": "code",
   "source": [
    "# INPUT X=2 Y=4\n",
    "x=int(input(\"What is X\"))\n",
    "y=int(input(\"What is Y\"))\n",
    "\n",
    "if x==y:\n",
    "    print(\"X is equal to Y\")\n",
    "else:\n",
    "    print(\"X is not equal to Y\")\n"
   ],
   "id": "6ac385e7803e0bd1",
   "outputs": [
    {
     "name": "stdout",
     "output_type": "stream",
     "text": [
      "X is not equal to Y\n"
     ]
    }
   ],
   "execution_count": 7
  }
 ],
 "metadata": {
  "kernelspec": {
   "display_name": "Python 3",
   "language": "python",
   "name": "python3"
  },
  "language_info": {
   "codemirror_mode": {
    "name": "ipython",
    "version": 2
   },
   "file_extension": ".py",
   "mimetype": "text/x-python",
   "name": "python",
   "nbconvert_exporter": "python",
   "pygments_lexer": "ipython2",
   "version": "2.7.6"
  }
 },
 "nbformat": 4,
 "nbformat_minor": 5
}
