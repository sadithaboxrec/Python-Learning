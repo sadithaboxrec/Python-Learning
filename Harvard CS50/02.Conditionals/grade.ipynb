{
 "cells": [
  {
   "metadata": {},
   "cell_type": "markdown",
   "source": "# **AND**",
   "id": "95a267f7736d72de"
  },
  {
   "metadata": {
    "collapsed": true
   },
   "cell_type": "code",
   "outputs": [],
   "execution_count": null,
   "source": [
    "score = float(input(\"Enter your score: \"))\n",
    "\n",
    "if score >= 90 and score <= 100:\n",
    "    print(\"Your grade is A\")\n",
    "elif score >= 80 and score < 90:\n",
    "    print(\"Your grade is B\")\n",
    "elif score >= 70 and score < 80:\n",
    "    print(\"Your grade is C\")\n",
    "elif score >= 60 and score < 70:\n",
    "    print(\"Your grade is D\")\n",
    "else :\n",
    "    print(\"Your grade is F\")\n"
   ],
   "id": "initial_id"
  },
  {
   "metadata": {},
   "cell_type": "markdown",
   "source": "",
   "id": "39dbc854ec24c50d"
  },
  {
   "metadata": {},
   "cell_type": "markdown",
   "source": "",
   "id": "8cbe36948b416888"
  },
  {
   "metadata": {},
   "cell_type": "code",
   "outputs": [],
   "execution_count": null,
   "source": [
    "score = float(input(\"Enter your score: \"))\n",
    "\n",
    "if 90 <= score and score <= 100:\n",
    "    print(\"Your grade is A\")\n",
    "elif 80 <= score and score < 90:\n",
    "    print(\"Your grade is B\")\n",
    "elif 70 <= score and score < 80:\n",
    "    print(\"Your grade is C\")\n",
    "elif 60 <= score and score < 70:\n",
    "    print(\"Your grade is D\")\n",
    "else :\n",
    "    print(\"Your grade is F\")\n"
   ],
   "id": "74ccf4ed4f888bd2"
  },
  {
   "metadata": {},
   "cell_type": "markdown",
   "source": "## Python trick to short it",
   "id": "7d2c25ffe6d26a74"
  },
  {
   "metadata": {},
   "cell_type": "code",
   "outputs": [],
   "execution_count": null,
   "source": [
    "score = float(input(\"Enter your score: \"))\n",
    "\n",
    "if 90 <= score <= 100:\n",
    "    print(\"Your grade is A\")\n",
    "elif 80 <= score < 90:\n",
    "    print(\"Your grade is B\")\n",
    "elif 70 <= score < 80:\n",
    "    print(\"Your grade is C\")\n",
    "elif 60 <= score < 70:\n",
    "    print(\"Your grade is D\")\n",
    "else :\n",
    "    print(\"Your grade is F\")\n"
   ],
   "id": "2c8f4e2a7d8e5fff"
  },
  {
   "metadata": {},
   "cell_type": "markdown",
   "source": "## assuming only enter values below 100",
   "id": "3c8fdb2512261298"
  },
  {
   "metadata": {},
   "cell_type": "code",
   "outputs": [],
   "execution_count": null,
   "source": [
    "score = float(input(\"Enter your score: \"))\n",
    "\n",
    "if score >= 90:\n",
    "    print(\"Your grade is A\")\n",
    "elif score >= 80:\n",
    "    print(\"Your grade is B\")\n",
    "elif score >= 70:\n",
    "    print(\"Your grade is C\")\n",
    "elif score >= 60:\n",
    "    print(\"Your grade is D\")\n",
    "else :\n",
    "    print(\"Your grade is F\")\n"
   ],
   "id": "bb63bcf4867dec3c"
  }
 ],
 "metadata": {
  "kernelspec": {
   "display_name": "Python 3",
   "language": "python",
   "name": "python3"
  },
  "language_info": {
   "codemirror_mode": {
    "name": "ipython",
    "version": 2
   },
   "file_extension": ".py",
   "mimetype": "text/x-python",
   "name": "python",
   "nbconvert_exporter": "python",
   "pygments_lexer": "ipython2",
   "version": "2.7.6"
  }
 },
 "nbformat": 4,
 "nbformat_minor": 5
}
