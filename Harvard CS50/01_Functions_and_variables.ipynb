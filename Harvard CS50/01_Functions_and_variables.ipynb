{
 "cells": [
  {
   "metadata": {},
   "cell_type": "markdown",
   "source": "# **Functions and Variables**",
   "id": "fa482fed341160f4"
  },
  {
   "metadata": {
    "ExecuteTime": {
     "end_time": "2025-10-22T12:41:38.704575Z",
     "start_time": "2025-10-22T12:41:38.701631Z"
    }
   },
   "cell_type": "code",
   "source": "print(\"Hello ,World\")",
   "id": "61e7c8359325ce76",
   "outputs": [
    {
     "name": "stdout",
     "output_type": "stream",
     "text": [
      "Hello ,World\n"
     ]
    }
   ],
   "execution_count": 2
  },
  {
   "metadata": {},
   "cell_type": "markdown",
   "source": [
    "## *Functions*\n",
    "#### like an action or verb let you do something.  *print()* function prints whatever we want.\n",
    "\n",
    " ## *arguments*\n",
    "#### inputs to a function that somehow influences it's behaviour.\n",
    "\n",
    "## *return values*\n",
    "#### some functions can have return values\n"
   ],
   "id": "4aefe39c45574b08"
  },
  {
   "metadata": {
    "ExecuteTime": {
     "end_time": "2025-10-22T12:58:23.955450Z",
     "start_time": "2025-10-22T12:58:19.042072Z"
    }
   },
   "cell_type": "code",
   "source": [
    "input(\"What is your name?\")\n",
    "print(\"Hello ,World\")\n",
    "\n",
    "# input function can take argument itself. But we didn't put \"input's return value\"  anywhere. so output is still \"Hello,World\""
   ],
   "id": "c55944e4ba734a60",
   "outputs": [
    {
     "name": "stdout",
     "output_type": "stream",
     "text": [
      "Hello ,World\n"
     ]
    }
   ],
   "execution_count": 4
  },
  {
   "metadata": {},
   "cell_type": "markdown",
   "source": [
    "## *Variables*\n",
    "#### variables can store values like in a container\n",
    "\n",
    "##  =\n",
    "####  **\" = \"** called assignment operator.\n",
    "####  assign whatever in the right to left.\n"
   ],
   "id": "51f505e27adc76fa"
  },
  {
   "metadata": {
    "ExecuteTime": {
     "end_time": "2025-10-22T13:05:11.775868Z",
     "start_time": "2025-10-22T13:05:06.043792Z"
    }
   },
   "cell_type": "code",
   "source": [
    "name = input(\"What is your name?\")\n",
    "print(\"Hello ,\")\n",
    "print(name)\n",
    "\n",
    "# return value of function assigned to variable"
   ],
   "id": "7b361717c7d13f22",
   "outputs": [
    {
     "name": "stdout",
     "output_type": "stream",
     "text": [
      "Hello ,\n",
      "Saditha\n"
     ]
    }
   ],
   "execution_count": 6
  },
  {
   "metadata": {},
   "cell_type": "markdown",
   "source": "### **print(*objects, sep=' ', end='\\n', file=None, flush=False)**",
   "id": "69b084dd1458f89d"
  },
  {
   "metadata": {},
   "cell_type": "code",
   "outputs": [],
   "execution_count": null,
   "source": "",
   "id": "33856ac39d48e0a6"
  }
 ],
 "metadata": {
  "kernelspec": {
   "display_name": "Python 3",
   "language": "python",
   "name": "python3"
  },
  "language_info": {
   "codemirror_mode": {
    "name": "ipython",
    "version": 2
   },
   "file_extension": ".py",
   "mimetype": "text/x-python",
   "name": "python",
   "nbconvert_exporter": "python",
   "pygments_lexer": "ipython2",
   "version": "2.7.6"
  }
 },
 "nbformat": 4,
 "nbformat_minor": 5
}
