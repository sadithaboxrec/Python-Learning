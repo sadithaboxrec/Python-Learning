{
 "cells": [
  {
   "metadata": {},
   "cell_type": "markdown",
   "source": "# **Functions and Variables**",
   "id": "fa482fed341160f4"
  },
  {
   "metadata": {
    "ExecuteTime": {
     "end_time": "2025-10-22T12:41:38.704575Z",
     "start_time": "2025-10-22T12:41:38.701631Z"
    }
   },
   "cell_type": "code",
   "source": "print(\"Hello ,World\")",
   "id": "61e7c8359325ce76",
   "outputs": [
    {
     "name": "stdout",
     "output_type": "stream",
     "text": [
      "Hello ,World\n"
     ]
    }
   ],
   "execution_count": 2
  },
  {
   "metadata": {},
   "cell_type": "markdown",
   "source": [
    "## *Functions*\n",
    "#### like an action or verb let you do something.  *print()* function prints whatever we want.\n",
    "\n",
    " ## *arguments*\n",
    "#### inputs to a function that somehow influences it's behaviour.\n",
    "\n",
    "## *return values*\n",
    "#### some functions can have return values\n"
   ],
   "id": "4aefe39c45574b08"
  },
  {
   "metadata": {
    "ExecuteTime": {
     "end_time": "2025-10-22T12:58:23.955450Z",
     "start_time": "2025-10-22T12:58:19.042072Z"
    }
   },
   "cell_type": "code",
   "source": [
    "input(\"What is your name?\")\n",
    "print(\"Hello ,World\")\n",
    "\n",
    "# input function can take argument itself. But we didn't put \"input's return value\"  anywhere. so output is still \"Hello,World\""
   ],
   "id": "c55944e4ba734a60",
   "outputs": [
    {
     "name": "stdout",
     "output_type": "stream",
     "text": [
      "Hello ,World\n"
     ]
    }
   ],
   "execution_count": 4
  },
  {
   "metadata": {},
   "cell_type": "markdown",
   "source": [
    "## *Variables*\n",
    "#### variables can store values like in a container\n",
    "\n",
    "##  =\n",
    "####  **\" = \"** called assignment operator.\n",
    "####  assign whatever in the right to left.\n"
   ],
   "id": "51f505e27adc76fa"
  },
  {
   "metadata": {
    "ExecuteTime": {
     "end_time": "2025-10-22T13:05:11.775868Z",
     "start_time": "2025-10-22T13:05:06.043792Z"
    }
   },
   "cell_type": "code",
   "source": [
    "name = input(\"What is your name?\")\n",
    "print(\"Hello ,\")\n",
    "print(name)\n",
    "\n",
    "# return value of function assigned to variable"
   ],
   "id": "7b361717c7d13f22",
   "outputs": [
    {
     "name": "stdout",
     "output_type": "stream",
     "text": [
      "Hello ,\n",
      "Saditha\n"
     ]
    }
   ],
   "execution_count": 6
  },
  {
   "metadata": {},
   "cell_type": "markdown",
   "source": [
    "### Parameters   - What you can pass to a function and what those inputs are called\n",
    "### Arguments  - When you actually use the function and pass the values into parentheses those inputs\n"
   ],
   "id": "352e71d844d8aa62"
  },
  {
   "metadata": {},
   "cell_type": "markdown",
   "source": [
    "### print(*objects, sep=' ', end='\\n', file=None, flush=False)\n",
    "\n",
    "##### sep='' -when pass multiple arguments  default value of separate is single blank\n",
    "####  end='\\n'  - escape sequence by default"
   ],
   "id": "69b084dd1458f89d"
  },
  {
   "metadata": {
    "ExecuteTime": {
     "end_time": "2025-10-22T17:26:32.916520Z",
     "start_time": "2025-10-22T17:26:24.710382Z"
    }
   },
   "cell_type": "code",
   "source": [
    "name = input(\"What is your name?\")\n",
    "print(\"Hello \", end=\"\")\n",
    "print(name)"
   ],
   "id": "355e0ac2b4f5f16f",
   "outputs": [
    {
     "name": "stdout",
     "output_type": "stream",
     "text": [
      "Hello Saditha\n"
     ]
    }
   ],
   "execution_count": 7
  },
  {
   "metadata": {
    "ExecuteTime": {
     "end_time": "2025-10-22T17:27:46.240266Z",
     "start_time": "2025-10-22T17:27:41.106720Z"
    }
   },
   "cell_type": "code",
   "source": [
    "# adding manual values with escape sequence\n",
    "\n",
    "name = input(\"What is your name?\")\n",
    "print(\"Hello \" , end=\"!!\")\n",
    "print(name)"
   ],
   "id": "1b9922a711488b56",
   "outputs": [
    {
     "name": "stdout",
     "output_type": "stream",
     "text": [
      "Hello !!Saditha\n"
     ]
    }
   ],
   "execution_count": 8
  },
  {
   "metadata": {
    "ExecuteTime": {
     "end_time": "2025-10-22T17:59:13.705695Z",
     "start_time": "2025-10-22T17:59:07.516542Z"
    }
   },
   "cell_type": "code",
   "source": [
    "name = input(\"What is your name?\")\n",
    "print(\"Hello \" , name, sep=\"!!\")"
   ],
   "id": "5ebdb4de981962b1",
   "outputs": [
    {
     "name": "stdout",
     "output_type": "stream",
     "text": [
      "Hello !!Saditha\n"
     ]
    }
   ],
   "execution_count": 12
  },
  {
   "metadata": {
    "ExecuteTime": {
     "end_time": "2025-10-22T17:46:29.778226Z",
     "start_time": "2025-10-22T17:46:24.746985Z"
    }
   },
   "cell_type": "code",
   "source": [
    "name = input(\"What is your name?\")\n",
    "print(\"Hello \" , name)\n",
    "\n",
    "## when use comma to add arguments it gives extra space every time"
   ],
   "id": "5a5c00243d0aa25d",
   "outputs": [
    {
     "name": "stdout",
     "output_type": "stream",
     "text": [
      "Hello  Saditha\n"
     ]
    }
   ],
   "execution_count": 10
  },
  {
   "metadata": {
    "ExecuteTime": {
     "end_time": "2025-10-22T18:01:22.744853Z",
     "start_time": "2025-10-22T18:01:22.738173Z"
    }
   },
   "cell_type": "code",
   "source": [
    "# printing quotes\n",
    "\n",
    "print(' Hello  \"friend\" ', )\n",
    "print(\" Hello \\\"friend2\\\" \")"
   ],
   "id": "2afc61305dd3ae2f",
   "outputs": [
    {
     "name": "stdout",
     "output_type": "stream",
     "text": [
      " Hello  \"friend\" \n",
      " Hello \"friend2\" \n"
     ]
    }
   ],
   "execution_count": 13
  },
  {
   "metadata": {},
   "cell_type": "markdown",
   "source": "### Printing variables",
   "id": "44c03eff48591197"
  },
  {
   "metadata": {
    "ExecuteTime": {
     "end_time": "2025-10-22T18:02:30.567688Z",
     "start_time": "2025-10-22T18:02:24.474903Z"
    }
   },
   "cell_type": "code",
   "outputs": [
    {
     "name": "stdout",
     "output_type": "stream",
     "text": [
      "Hello , Saditha\n"
     ]
    }
   ],
   "execution_count": 15,
   "source": [
    "name = input(\"What is your name?\")\n",
    "print(\"Hello , \" +name)"
   ],
   "id": "2bdaba452ad58af9"
  },
  {
   "metadata": {
    "ExecuteTime": {
     "end_time": "2025-10-22T18:02:56.247944Z",
     "start_time": "2025-10-22T18:02:49.849752Z"
    }
   },
   "cell_type": "code",
   "outputs": [
    {
     "name": "stdout",
     "output_type": "stream",
     "text": [
      "Hello , Saditha\n"
     ]
    }
   ],
   "execution_count": 16,
   "source": [
    "name = input(\"What is your name?\")\n",
    "print(f\"Hello , {name}\")"
   ],
   "id": "4e6adb568242691a"
  },
  {
   "metadata": {},
   "cell_type": "markdown",
   "source": "### #  removing white spaces",
   "id": "c59d7f4ee300e131"
  },
  {
   "metadata": {
    "ExecuteTime": {
     "end_time": "2025-10-22T18:07:00.728482Z",
     "start_time": "2025-10-22T18:06:55.119681Z"
    }
   },
   "cell_type": "code",
   "outputs": [
    {
     "name": "stdout",
     "output_type": "stream",
     "text": [
      "Hello , Saditha\n"
     ]
    }
   ],
   "execution_count": 21,
   "source": [
    "\n",
    "name = input(\"What is your name?\")\n",
    "name=name.strip()\n",
    "print(f\"Hello , {name}\")\n"
   ],
   "id": "c97dc86ad054e380"
  },
  {
   "metadata": {},
   "cell_type": "markdown",
   "source": "### Capitalizing input",
   "id": "b9e1b03489ec855"
  },
  {
   "metadata": {
    "ExecuteTime": {
     "end_time": "2025-10-22T18:14:27.729931Z",
     "start_time": "2025-10-22T18:14:17.023877Z"
    }
   },
   "cell_type": "code",
   "source": [
    "# input - saditha\n",
    "\n",
    "name = input(\"What is your name?\")\n",
    "name=name.strip()\n",
    "name=name.capitalize()\n",
    "print(f\"Hello , {name}\")"
   ],
   "id": "b6ab65a8569ade0e",
   "outputs": [
    {
     "name": "stdout",
     "output_type": "stream",
     "text": [
      "Hello , Saditha\n"
     ]
    }
   ],
   "execution_count": 25
  },
  {
   "metadata": {
    "ExecuteTime": {
     "end_time": "2025-10-22T18:15:09.194415Z",
     "start_time": "2025-10-22T18:15:01.867911Z"
    }
   },
   "cell_type": "code",
   "source": [
    "# input - saditha boxrec    , however only first word first letter capitalize\n",
    "\n",
    "name = input(\"What is your name?\")\n",
    "name=name.strip()\n",
    "name=name.capitalize()\n",
    "print(f\"Hello , {name}\")"
   ],
   "id": "bc186794314516a7",
   "outputs": [
    {
     "name": "stdout",
     "output_type": "stream",
     "text": [
      "Hello , Saditha boxrec\n"
     ]
    }
   ],
   "execution_count": 26
  },
  {
   "metadata": {
    "ExecuteTime": {
     "end_time": "2025-10-22T18:15:42.821955Z",
     "start_time": "2025-10-22T18:15:36.123264Z"
    }
   },
   "cell_type": "code",
   "source": [
    "name = input(\"What is your name?\")\n",
    "name=name.strip().capitalize()\n",
    "print(f\"Hello , {name}\")"
   ],
   "id": "1d6acb860704150b",
   "outputs": [
    {
     "name": "stdout",
     "output_type": "stream",
     "text": [
      "Hello , Saditha boxrec\n"
     ]
    }
   ],
   "execution_count": 27
  },
  {
   "metadata": {
    "ExecuteTime": {
     "end_time": "2025-10-22T18:16:19.385377Z",
     "start_time": "2025-10-22T18:16:13.190321Z"
    }
   },
   "cell_type": "code",
   "source": [
    "# input - saditha boxrec\n",
    "name = input(\"What is your name?\")\n",
    "name=name.strip().title()\n",
    "\n",
    "print(f\"Hello , {name}\")"
   ],
   "id": "546072f933e7b29b",
   "outputs": [
    {
     "name": "stdout",
     "output_type": "stream",
     "text": [
      "Hello , Saditha Boxrec\n"
     ]
    }
   ],
   "execution_count": 28
  },
  {
   "metadata": {
    "ExecuteTime": {
     "end_time": "2025-10-22T18:17:09.688580Z",
     "start_time": "2025-10-22T18:17:03.428714Z"
    }
   },
   "cell_type": "code",
   "source": [
    "name = input(\"What is your name?\").strip().title()\n",
    "\n",
    "print(f\"Hello , {name}\")"
   ],
   "id": "9bda44be1dc67611",
   "outputs": [
    {
     "name": "stdout",
     "output_type": "stream",
     "text": [
      "Hello , Saditha Boxrec\n"
     ]
    }
   ],
   "execution_count": 29
  },
  {
   "metadata": {},
   "cell_type": "code",
   "outputs": [],
   "execution_count": null,
   "source": "",
   "id": "7e32be712d23ff66"
  }
 ],
 "metadata": {
  "kernelspec": {
   "display_name": "Python 3",
   "language": "python",
   "name": "python3"
  },
  "language_info": {
   "codemirror_mode": {
    "name": "ipython",
    "version": 2
   },
   "file_extension": ".py",
   "mimetype": "text/x-python",
   "name": "python",
   "nbconvert_exporter": "python",
   "pygments_lexer": "ipython2",
   "version": "2.7.6"
  }
 },
 "nbformat": 4,
 "nbformat_minor": 5
}
