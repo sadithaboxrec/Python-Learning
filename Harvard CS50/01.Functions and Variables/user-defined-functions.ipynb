{
 "cells": [
  {
   "cell_type": "code",
   "id": "initial_id",
   "metadata": {
    "collapsed": true,
    "ExecuteTime": {
     "end_time": "2025-10-24T05:39:19.148674Z",
     "start_time": "2025-10-24T05:39:13.402664Z"
    }
   },
   "source": [
    "name = input(\"What is your name? \")\n",
    "hello()\n",
    "print(name)"
   ],
   "outputs": [
    {
     "ename": "NameError",
     "evalue": "name 'hello' is not defined",
     "output_type": "error",
     "traceback": [
      "\u001B[31m---------------------------------------------------------------------------\u001B[39m",
      "\u001B[31mNameError\u001B[39m                                 Traceback (most recent call last)",
      "\u001B[36mCell\u001B[39m\u001B[36m \u001B[39m\u001B[32mIn[1]\u001B[39m\u001B[32m, line 2\u001B[39m\n\u001B[32m      1\u001B[39m name = \u001B[38;5;28minput\u001B[39m(\u001B[33m\"\u001B[39m\u001B[33mWhat is your name? \u001B[39m\u001B[33m\"\u001B[39m)\n\u001B[32m----> \u001B[39m\u001B[32m2\u001B[39m \u001B[43mhello\u001B[49m()\n\u001B[32m      3\u001B[39m \u001B[38;5;28mprint\u001B[39m(name)\n",
      "\u001B[31mNameError\u001B[39m: name 'hello' is not defined"
     ]
    }
   ],
   "execution_count": 1
  },
  {
   "metadata": {
    "ExecuteTime": {
     "end_time": "2025-10-24T05:50:30.810524Z",
     "start_time": "2025-10-24T05:50:25.709983Z"
    }
   },
   "cell_type": "code",
   "source": [
    "def hello():\n",
    "    print(\"Hello \")\n",
    "\n",
    "name = input(\"What is your name? \")\n",
    "hello()\n",
    "print(name)"
   ],
   "id": "66f63c9986d06ab7",
   "outputs": [
    {
     "name": "stdout",
     "output_type": "stream",
     "text": [
      "Hello \n",
      "Saditha\n"
     ]
    }
   ],
   "execution_count": 2
  },
  {
   "metadata": {
    "ExecuteTime": {
     "end_time": "2025-10-24T05:52:41.886227Z",
     "start_time": "2025-10-24T05:52:37.375645Z"
    }
   },
   "cell_type": "code",
   "source": [
    "def hello(x):\n",
    "    print(\"Hello ,\",x)    # x is a parameter\n",
    "\n",
    "name = input(\"What is your name? \")\n",
    "hello(name)                # name is the argument"
   ],
   "id": "4e33905c2d99d500",
   "outputs": [
    {
     "name": "stdout",
     "output_type": "stream",
     "text": [
      "Hello , Saditha\n"
     ]
    }
   ],
   "execution_count": 4
  },
  {
   "metadata": {},
   "cell_type": "markdown",
   "source": "### if we want that value of that parameter to have a value by default if not provided by programmer",
   "id": "9d7af39f20df1ed4"
  },
  {
   "metadata": {
    "ExecuteTime": {
     "end_time": "2025-10-24T05:56:56.351860Z",
     "start_time": "2025-10-24T05:56:50.673778Z"
    }
   },
   "cell_type": "code",
   "source": [
    "def hello(x=\"World\"):\n",
    "    print(\"Hello ,\",x)    # x is a parameter\n",
    "\n",
    "hello()\n",
    "name = input(\"What is your name? \")\n",
    "hello(name)                # name is the argument"
   ],
   "id": "e643fa2547f90837",
   "outputs": [
    {
     "name": "stdout",
     "output_type": "stream",
     "text": [
      "Hello , World\n",
      "Hello , Saditha\n"
     ]
    }
   ],
   "execution_count": 5
  },
  {
   "metadata": {},
   "cell_type": "code",
   "outputs": [],
   "execution_count": null,
   "source": [
    "name = input(\"What is your name? \")\n",
    "hello(name)\n",
    "\n",
    "# this is not recommended to have function below where we execute\n",
    "\n",
    "What is your name?\n",
    "Traceback (most recent call last):\n",
    "  File \"./prog.py\", line 1, in <module>\n",
    "EOFError: EOF when reading a line\n",
    "\n",
    "\n",
    "def hello(x=\"World\"):\n",
    "    print(\"Hello ,\",x)"
   ],
   "id": "4f1019f5643bfc1"
  },
  {
   "metadata": {},
   "cell_type": "markdown",
   "source": "## Recommended version",
   "id": "4c4d9334934bb1b6"
  },
  {
   "metadata": {
    "ExecuteTime": {
     "end_time": "2025-10-24T06:03:50.571135Z",
     "start_time": "2025-10-24T06:03:45.738167Z"
    }
   },
   "cell_type": "code",
   "source": [
    "def main():\n",
    "    name = input(\"What is your name? \")\n",
    "    hello(name)\n",
    "\n",
    "\n",
    "def hello(x=\"World\"):\n",
    "    print(\"Hello ,\",x)\n",
    "\n",
    "main()"
   ],
   "id": "4885acdf493bce89",
   "outputs": [
    {
     "name": "stdout",
     "output_type": "stream",
     "text": [
      "Hello , Saditha\n"
     ]
    }
   ],
   "execution_count": 8
  },
  {
   "metadata": {
    "ExecuteTime": {
     "end_time": "2025-10-24T06:08:25.482191Z",
     "start_time": "2025-10-24T06:08:21.352982Z"
    }
   },
   "cell_type": "code",
   "source": [
    "def main():\n",
    "    nameofuser = input(\"What is your name? \")\n",
    "    hello()\n",
    "\n",
    "\n",
    "def hello():\n",
    "    print(\"Hello ,\",nameofuser)\n",
    "\n",
    "main()"
   ],
   "id": "e7d29ce8cf74255e",
   "outputs": [
    {
     "ename": "NameError",
     "evalue": "name 'nameofuser' is not defined",
     "output_type": "error",
     "traceback": [
      "\u001B[31m---------------------------------------------------------------------------\u001B[39m",
      "\u001B[31mNameError\u001B[39m                                 Traceback (most recent call last)",
      "\u001B[36mCell\u001B[39m\u001B[36m \u001B[39m\u001B[32mIn[10]\u001B[39m\u001B[32m, line 9\u001B[39m\n\u001B[32m      6\u001B[39m \u001B[38;5;28;01mdef\u001B[39;00m\u001B[38;5;250m \u001B[39m\u001B[34mhello\u001B[39m():\n\u001B[32m      7\u001B[39m     \u001B[38;5;28mprint\u001B[39m(\u001B[33m\"\u001B[39m\u001B[33mHello ,\u001B[39m\u001B[33m\"\u001B[39m,nameofuser)\n\u001B[32m----> \u001B[39m\u001B[32m9\u001B[39m \u001B[43mmain\u001B[49m\u001B[43m(\u001B[49m\u001B[43m)\u001B[49m\n",
      "\u001B[36mCell\u001B[39m\u001B[36m \u001B[39m\u001B[32mIn[10]\u001B[39m\u001B[32m, line 3\u001B[39m, in \u001B[36mmain\u001B[39m\u001B[34m()\u001B[39m\n\u001B[32m      1\u001B[39m \u001B[38;5;28;01mdef\u001B[39;00m\u001B[38;5;250m \u001B[39m\u001B[34mmain\u001B[39m():\n\u001B[32m      2\u001B[39m     nameofuser = \u001B[38;5;28minput\u001B[39m(\u001B[33m\"\u001B[39m\u001B[33mWhat is your name? \u001B[39m\u001B[33m\"\u001B[39m)\n\u001B[32m----> \u001B[39m\u001B[32m3\u001B[39m     \u001B[43mhello\u001B[49m\u001B[43m(\u001B[49m\u001B[43m)\u001B[49m\n",
      "\u001B[36mCell\u001B[39m\u001B[36m \u001B[39m\u001B[32mIn[10]\u001B[39m\u001B[32m, line 7\u001B[39m, in \u001B[36mhello\u001B[39m\u001B[34m()\u001B[39m\n\u001B[32m      6\u001B[39m \u001B[38;5;28;01mdef\u001B[39;00m\u001B[38;5;250m \u001B[39m\u001B[34mhello\u001B[39m():\n\u001B[32m----> \u001B[39m\u001B[32m7\u001B[39m     \u001B[38;5;28mprint\u001B[39m(\u001B[33m\"\u001B[39m\u001B[33mHello ,\u001B[39m\u001B[33m\"\u001B[39m,\u001B[43mnameofuser\u001B[49m)\n",
      "\u001B[31mNameError\u001B[39m: name 'nameofuser' is not defined"
     ]
    }
   ],
   "execution_count": 10
  },
  {
   "metadata": {},
   "cell_type": "markdown",
   "source": [
    "### Scope\n",
    "\n",
    "#### Scope means variable only exists in context which it defined."
   ],
   "id": "3621407bfda114b"
  },
  {
   "metadata": {},
   "cell_type": "markdown",
   "source": "",
   "id": "fa9ecef4ed25e491"
  },
  {
   "metadata": {},
   "cell_type": "markdown",
   "source": "",
   "id": "fd0c52770abb531c"
  },
  {
   "metadata": {},
   "cell_type": "markdown",
   "source": "## Return",
   "id": "42ec05352fcb9600"
  },
  {
   "metadata": {
    "ExecuteTime": {
     "end_time": "2025-10-24T06:15:20.226153Z",
     "start_time": "2025-10-24T06:15:17.162513Z"
    }
   },
   "cell_type": "code",
   "source": [
    "def main():\n",
    "    x=int(input(\"What is X?\"))\n",
    "    print(\"X squared is \", square(x))\n",
    "\n",
    "def square(x):\n",
    "     return pow(x,2)\n",
    "\n",
    "main()"
   ],
   "id": "f4f8d1c7b734b210",
   "outputs": [
    {
     "name": "stdout",
     "output_type": "stream",
     "text": [
      "X squared is  4\n"
     ]
    }
   ],
   "execution_count": 12
  },
  {
   "metadata": {},
   "cell_type": "code",
   "outputs": [],
   "execution_count": null,
   "source": "",
   "id": "8824fc575651e32"
  }
 ],
 "metadata": {
  "kernelspec": {
   "display_name": "Python 3",
   "language": "python",
   "name": "python3"
  },
  "language_info": {
   "codemirror_mode": {
    "name": "ipython",
    "version": 2
   },
   "file_extension": ".py",
   "mimetype": "text/x-python",
   "name": "python",
   "nbconvert_exporter": "python",
   "pygments_lexer": "ipython2",
   "version": "2.7.6"
  }
 },
 "nbformat": 4,
 "nbformat_minor": 5
}
