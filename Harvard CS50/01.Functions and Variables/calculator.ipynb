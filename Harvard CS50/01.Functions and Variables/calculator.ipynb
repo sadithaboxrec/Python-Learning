{
 "cells": [
  {
   "cell_type": "code",
   "id": "initial_id",
   "metadata": {
    "collapsed": true,
    "ExecuteTime": {
     "end_time": "2025-10-24T04:24:33.324361Z",
     "start_time": "2025-10-24T04:24:33.315243Z"
    }
   },
   "source": [
    "x=1\n",
    "y=2\n",
    "\n",
    "z=x+y\n",
    "print(z)"
   ],
   "outputs": [
    {
     "name": "stdout",
     "output_type": "stream",
     "text": [
      "3\n"
     ]
    }
   ],
   "execution_count": 1
  },
  {
   "metadata": {
    "ExecuteTime": {
     "end_time": "2025-10-24T04:27:51.113401Z",
     "start_time": "2025-10-24T04:27:45.554024Z"
    }
   },
   "cell_type": "code",
   "source": [
    "x = input(\"What is X: \")\n",
    "y = input(\"What is Y: \")\n",
    "\n",
    "z=x+y\n",
    "print(z)"
   ],
   "id": "817df06d4d44eea5",
   "outputs": [
    {
     "name": "stdout",
     "output_type": "stream",
     "text": [
      "12\n"
     ]
    }
   ],
   "execution_count": 5
  },
  {
   "metadata": {
    "ExecuteTime": {
     "end_time": "2025-10-24T04:29:47.531681Z",
     "start_time": "2025-10-24T04:29:43.415166Z"
    }
   },
   "cell_type": "code",
   "source": [
    "x = input(\"What is X: \")\n",
    "y = input(\"What is Y: \")\n",
    "\n",
    "z=int(x)+int(y)\n",
    "print(z)"
   ],
   "id": "d2e5b5bd404f8eac",
   "outputs": [
    {
     "name": "stdout",
     "output_type": "stream",
     "text": [
      "3\n"
     ]
    }
   ],
   "execution_count": 6
  },
  {
   "metadata": {
    "ExecuteTime": {
     "end_time": "2025-10-24T04:34:23.939222Z",
     "start_time": "2025-10-24T04:34:18.137823Z"
    }
   },
   "cell_type": "code",
   "source": [
    "# we can nest functions\n",
    "# return value of the inner function become the arguement to outer function\n",
    "\n",
    "x = int(input(\"What is X: \"))\n",
    "y = int(input(\"What is Y: \"))\n",
    "print(x+y)"
   ],
   "id": "7403c6f9b8fdc72",
   "outputs": [
    {
     "name": "stdout",
     "output_type": "stream",
     "text": [
      "3\n"
     ]
    }
   ],
   "execution_count": 7
  },
  {
   "metadata": {
    "ExecuteTime": {
     "end_time": "2025-10-24T04:47:57.922217Z",
     "start_time": "2025-10-24T04:47:52.769461Z"
    }
   },
   "cell_type": "code",
   "source": [
    "# input  1.2\n",
    "x = int(input(\"What is X: \"))\n",
    "y = int(input(\"What is Y: \"))\n",
    "print(x+y)"
   ],
   "id": "a7eddd851ba069bb",
   "outputs": [
    {
     "ename": "ValueError",
     "evalue": "invalid literal for int() with base 10: '1.2'",
     "output_type": "error",
     "traceback": [
      "\u001B[31m---------------------------------------------------------------------------\u001B[39m",
      "\u001B[31mValueError\u001B[39m                                Traceback (most recent call last)",
      "\u001B[36mCell\u001B[39m\u001B[36m \u001B[39m\u001B[32mIn[8]\u001B[39m\u001B[32m, line 1\u001B[39m\n\u001B[32m----> \u001B[39m\u001B[32m1\u001B[39m x = \u001B[38;5;28;43mint\u001B[39;49m\u001B[43m(\u001B[49m\u001B[38;5;28;43minput\u001B[39;49m\u001B[43m(\u001B[49m\u001B[33;43m\"\u001B[39;49m\u001B[33;43mWhat is X: \u001B[39;49m\u001B[33;43m\"\u001B[39;49m\u001B[43m)\u001B[49m\u001B[43m)\u001B[49m\n\u001B[32m      2\u001B[39m y = \u001B[38;5;28mint\u001B[39m(\u001B[38;5;28minput\u001B[39m(\u001B[33m\"\u001B[39m\u001B[33mWhat is Y: \u001B[39m\u001B[33m\"\u001B[39m))\n\u001B[32m      3\u001B[39m \u001B[38;5;28mprint\u001B[39m(x+y)\n",
      "\u001B[31mValueError\u001B[39m: invalid literal for int() with base 10: '1.2'"
     ]
    }
   ],
   "execution_count": 8
  },
  {
   "metadata": {
    "ExecuteTime": {
     "end_time": "2025-10-24T04:52:18.758100Z",
     "start_time": "2025-10-24T04:52:08.368943Z"
    }
   },
   "cell_type": "code",
   "source": [
    "# input  1.2 and 2.4\n",
    "x = float(input(\"What is X: \"))\n",
    "y = float(input(\"What is Y: \"))\n",
    "print(x+y)"
   ],
   "id": "3c68476c58e26a73",
   "outputs": [
    {
     "name": "stdout",
     "output_type": "stream",
     "text": [
      "3.5999999999999996\n"
     ]
    }
   ],
   "execution_count": 10
  },
  {
   "metadata": {},
   "cell_type": "markdown",
   "source": [
    "### round function\n",
    "\n",
    "#### Syntax - **round(number, digits)**\n",
    "\n",
    "#### number -\tRequired. The number to be rounded\n",
    "#### digits \tOptional. The number of decimals to use when rounding the number. Default is 0"
   ],
   "id": "eb0dbae4efd350cf"
  },
  {
   "metadata": {
    "ExecuteTime": {
     "end_time": "2025-10-24T04:53:25.470558Z",
     "start_time": "2025-10-24T04:53:15.522258Z"
    }
   },
   "cell_type": "code",
   "source": [
    "# input  1.2 and 2.4\n",
    "x = float(input(\"What is X: \"))\n",
    "y = float(input(\"What is Y: \"))\n",
    "\n",
    "print(round(x+y))"
   ],
   "id": "39effe3a7bc65b90",
   "outputs": [
    {
     "name": "stdout",
     "output_type": "stream",
     "text": [
      "4\n"
     ]
    }
   ],
   "execution_count": 11
  },
  {
   "metadata": {
    "ExecuteTime": {
     "end_time": "2025-10-24T05:22:09.383909Z",
     "start_time": "2025-10-24T05:22:02.622751Z"
    }
   },
   "cell_type": "code",
   "source": [
    "# input is 1.2 and 2.4\n",
    "x = float(input(\"What is X: \"))\n",
    "y = float(input(\"What is Y: \"))\n",
    "print(round(x+y,2))"
   ],
   "id": "a7e1f01b1ebbe9c8",
   "outputs": [
    {
     "name": "stdout",
     "output_type": "stream",
     "text": [
      "3.6\n"
     ]
    }
   ],
   "execution_count": 18
  },
  {
   "metadata": {
    "ExecuteTime": {
     "end_time": "2025-10-24T05:27:46.245592Z",
     "start_time": "2025-10-24T05:27:46.238476Z"
    }
   },
   "cell_type": "code",
   "source": [
    "x = round(5.76543, 2)\n",
    "print(x)"
   ],
   "id": "c2c5a6d9959f764",
   "outputs": [
    {
     "name": "stdout",
     "output_type": "stream",
     "text": [
      "5.77\n"
     ]
    }
   ],
   "execution_count": 19
  },
  {
   "metadata": {
    "ExecuteTime": {
     "end_time": "2025-10-24T05:33:46.849973Z",
     "start_time": "2025-10-24T05:33:41.612154Z"
    }
   },
   "cell_type": "code",
   "source": [
    "# input  2 and 3\n",
    "x = float(input(\"What is X: \"))\n",
    "y = float(input(\"What is Y: \"))\n",
    "\n",
    "z=x/y\n",
    "\n",
    "print(z)"
   ],
   "id": "446df795b392a0aa",
   "outputs": [
    {
     "name": "stdout",
     "output_type": "stream",
     "text": [
      "0.6666666666666666\n"
     ]
    }
   ],
   "execution_count": 23
  },
  {
   "metadata": {
    "ExecuteTime": {
     "end_time": "2025-10-24T05:32:46.123628Z",
     "start_time": "2025-10-24T05:32:38.487890Z"
    }
   },
   "cell_type": "code",
   "source": [
    "# input  2 and 3\n",
    "x = float(input(\"What is X: \"))\n",
    "y = float(input(\"What is Y: \"))\n",
    "\n",
    "z=round(x/y,2)\n",
    "\n",
    "print(z)"
   ],
   "id": "9cc477bafb1fef49",
   "outputs": [
    {
     "name": "stdout",
     "output_type": "stream",
     "text": [
      "0.67\n"
     ]
    }
   ],
   "execution_count": 21
  },
  {
   "metadata": {},
   "cell_type": "markdown",
   "source": "## string formatting",
   "id": "d707a8eb7548a279"
  },
  {
   "metadata": {
    "ExecuteTime": {
     "end_time": "2025-10-24T05:29:29.311264Z",
     "start_time": "2025-10-24T05:29:22.110845Z"
    }
   },
   "cell_type": "code",
   "source": [
    "# input  1.2 and 2.4\n",
    "x = float(input(\"What is X: \"))\n",
    "y = float(input(\"What is Y: \"))\n",
    "print(f\"{x + y:.1f}\")\n"
   ],
   "id": "27e60ad88513905e",
   "outputs": [
    {
     "name": "stdout",
     "output_type": "stream",
     "text": [
      "3.6\n"
     ]
    }
   ],
   "execution_count": 20
  },
  {
   "metadata": {
    "ExecuteTime": {
     "end_time": "2025-10-24T04:59:43.236038Z",
     "start_time": "2025-10-24T04:59:33.718801Z"
    }
   },
   "cell_type": "code",
   "source": [
    "# input  999 and 1100\n",
    "x = float(input(\"What is X: \"))\n",
    "y = float(input(\"What is Y: \"))\n",
    "\n",
    "z=round(x+y)\n",
    "\n",
    "print(f\"{z}\")"
   ],
   "id": "b7eb377de9ec773e",
   "outputs": [
    {
     "name": "stdout",
     "output_type": "stream",
     "text": [
      "2099\n"
     ]
    }
   ],
   "execution_count": 15
  },
  {
   "metadata": {},
   "cell_type": "markdown",
   "source": "#### instead of just printing 2099 we can print 2,099",
   "id": "722f867fe5331d34"
  },
  {
   "metadata": {
    "ExecuteTime": {
     "end_time": "2025-10-24T05:00:02.301082Z",
     "start_time": "2025-10-24T04:59:53.549643Z"
    }
   },
   "cell_type": "code",
   "outputs": [
    {
     "name": "stdout",
     "output_type": "stream",
     "text": [
      "2,099\n"
     ]
    }
   ],
   "execution_count": 16,
   "source": [
    "# input  999 and 1100\n",
    "x = float(input(\"What is X: \"))\n",
    "y = float(input(\"What is Y: \"))\n",
    "\n",
    "z=round(x+y)\n",
    "\n",
    "print(f\"{z:,}\")"
   ],
   "id": "b602dabf2667b539"
  },
  {
   "metadata": {},
   "cell_type": "code",
   "outputs": [],
   "execution_count": null,
   "source": [
    "# input  2 and 3\n",
    "x = float(input(\"What is X: \"))\n",
    "y = float(input(\"What is Y: \"))\n",
    "\n",
    "z=x/y\n",
    "\n",
    "print(z)"
   ],
   "id": "e62a3fa6e5ba4ed9"
  },
  {
   "metadata": {
    "ExecuteTime": {
     "end_time": "2025-10-24T05:35:05.076352Z",
     "start_time": "2025-10-24T05:35:00.131008Z"
    }
   },
   "cell_type": "code",
   "source": [
    "# input  2 and 3\n",
    "x = float(input(\"What is X: \"))\n",
    "y = float(input(\"What is Y: \"))\n",
    "\n",
    "z=x/y\n",
    "\n",
    "print(f\"{z:.2f}\")"
   ],
   "id": "df215ea0635459fc",
   "outputs": [
    {
     "name": "stdout",
     "output_type": "stream",
     "text": [
      "0.67\n"
     ]
    }
   ],
   "execution_count": 25
  },
  {
   "metadata": {},
   "cell_type": "code",
   "outputs": [],
   "execution_count": null,
   "source": "",
   "id": "46da62da8fd7a1a2"
  }
 ],
 "metadata": {
  "kernelspec": {
   "display_name": "Python 3",
   "language": "python",
   "name": "python3"
  },
  "language_info": {
   "codemirror_mode": {
    "name": "ipython",
    "version": 2
   },
   "file_extension": ".py",
   "mimetype": "text/x-python",
   "name": "python",
   "nbconvert_exporter": "python",
   "pygments_lexer": "ipython2",
   "version": "2.7.6"
  }
 },
 "nbformat": 4,
 "nbformat_minor": 5
}
