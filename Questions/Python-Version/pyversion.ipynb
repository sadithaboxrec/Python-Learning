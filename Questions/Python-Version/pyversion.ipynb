{
 "cells": [
  {
   "metadata": {},
   "cell_type": "markdown",
   "source": [
    "# Python Version Checker\n",
    "\n",
    "#### Write a Python program to find out what version of Python you are using."
   ],
   "id": "3e9528c5cb768a5c"
  },
  {
   "metadata": {
    "ExecuteTime": {
     "end_time": "2025-10-22T18:28:32.008630Z",
     "start_time": "2025-10-22T18:28:32.005229Z"
    }
   },
   "cell_type": "code",
   "source": [
    "# system-specific parameters and functions\n",
    "import sys\n",
    "\n",
    "# Use the sys.version attribute to get the Python version\n",
    "print(\"Python version - \" + sys.version)\n",
    "\n",
    "# Use the sys.version_info attribute to get detailed version information\n",
    "print(\"Version info. -\", sys.version_info)\n"
   ],
   "id": "63a6a97769b1be5a",
   "outputs": [
    {
     "name": "stdout",
     "output_type": "stream",
     "text": [
      "Python version - 3.13.2 (tags/v3.13.2:4f8bb39, Feb  4 2025, 15:23:48) [MSC v.1942 64 bit (AMD64)]\n",
      "Version info. - sys.version_info(major=3, minor=13, micro=2, releaselevel='final', serial=0)\n"
     ]
    }
   ],
   "execution_count": 2
  },
  {
   "metadata": {},
   "cell_type": "code",
   "outputs": [],
   "execution_count": null,
   "source": "",
   "id": "d72dd0161fbcfcda"
  }
 ],
 "metadata": {
  "kernelspec": {
   "display_name": "Python 3",
   "language": "python",
   "name": "python3"
  },
  "language_info": {
   "codemirror_mode": {
    "name": "ipython",
    "version": 2
   },
   "file_extension": ".py",
   "mimetype": "text/x-python",
   "name": "python",
   "nbconvert_exporter": "python",
   "pygments_lexer": "ipython2",
   "version": "2.7.6"
  }
 },
 "nbformat": 4,
 "nbformat_minor": 5
}
